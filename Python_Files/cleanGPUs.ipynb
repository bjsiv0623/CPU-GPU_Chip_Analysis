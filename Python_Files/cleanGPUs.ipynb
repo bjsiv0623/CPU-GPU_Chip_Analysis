{
 "cells": [
  {
   "cell_type": "code",
   "execution_count": 1,
   "metadata": {},
   "outputs": [
    {
     "data": {
      "text/plain": [
       "'\\nCreated on Mon May  8 13:11:10 2023\\n\\n@author: bjsiv\\n'"
      ]
     },
     "execution_count": 1,
     "metadata": {},
     "output_type": "execute_result"
    }
   ],
   "source": [
    "# -*- coding: utf-8 -*-\n",
    "\"\"\"\n",
    "Created on Mon May  8 13:11:10 2023\n",
    "\n",
    "@author: bjsiv\n",
    "\"\"\"\n",
    "# This file will use the GPU dataset created in the previous file to clean and prep the data for further use"
   ]
  },
  {
   "cell_type": "code",
   "execution_count": 2,
   "metadata": {},
   "outputs": [],
   "source": [
    "import pandas as pd"
   ]
  },
  {
   "cell_type": "code",
   "execution_count": 3,
   "metadata": {},
   "outputs": [],
   "source": [
    "# Importing the GPU dataset created in splitData.ipynb and creating a copy to refrence\n",
    "df = pd.read_csv(r'C:\\\\Users\\\\bjsiv\\\\OneDrive\\\\Desktop\\\\Data_Sci_Final\\\\Data\\\\GPU_dataset.csv')\n",
    "\n",
    "df_proc = df.copy(deep=True)"
   ]
  },
  {
   "cell_type": "code",
   "execution_count": 4,
   "metadata": {},
   "outputs": [],
   "source": [
    "# Now we have a separate workspace and dataframe for our GPU data, where we can clean and optimize the .csv file\n",
    "# In order to reduce bloat in the dataset so that when we perform operations on the data, our readings are accurate\n",
    "# We will drop the columns that are not neccessary and any rows that contain null values"
   ]
  },
  {
   "cell_type": "code",
   "execution_count": 5,
   "metadata": {},
   "outputs": [],
   "source": [
    "# Dropping un-necessary column\n",
    "df_proc.drop(df_proc.columns[[1]], axis=1, inplace=True)\n",
    "\n",
    "# Dropping rows with null values\n",
    "# Once this operation is complete our dataframe will have the following attributes:\n",
    "# Index, Type, Process size, TDP, Die size, Transistors, Frequency and Vendor\n",
    "df_proc = df_proc.dropna()"
   ]
  },
  {
   "cell_type": "code",
   "execution_count": 6,
   "metadata": {},
   "outputs": [],
   "source": [
    "# We now have a dataset with only GPU entries that contains only relevant data, with no null values in any of the entries\n",
    "# We can go ahead and save our dataset to csv\n",
    "\n",
    "df_proc.to_csv(r'C:\\\\Users\\\\bjsiv\\\\OneDrive\\\\Desktop\\\\Data_Sci_Final\\\\Data\\\\GPU_CleanData.csv')"
   ]
  }
 ],
 "metadata": {
  "kernelspec": {
   "display_name": "Python 3",
   "language": "python",
   "name": "python3"
  },
  "language_info": {
   "codemirror_mode": {
    "name": "ipython",
    "version": 3
   },
   "file_extension": ".py",
   "mimetype": "text/x-python",
   "name": "python",
   "nbconvert_exporter": "python",
   "pygments_lexer": "ipython3",
   "version": "3.11.3"
  },
  "orig_nbformat": 4
 },
 "nbformat": 4,
 "nbformat_minor": 2
}
