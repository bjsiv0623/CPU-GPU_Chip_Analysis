{
 "cells": [
  {
   "cell_type": "code",
   "execution_count": 2,
   "metadata": {},
   "outputs": [
    {
     "data": {
      "text/plain": [
       "'\\nCreated on Mon May  7 23:55:13 2023\\n\\n@author: bjsiv\\n'"
      ]
     },
     "execution_count": 2,
     "metadata": {},
     "output_type": "execute_result"
    }
   ],
   "source": [
    "# -*- coding: utf-8 -*-\n",
    "\"\"\"\n",
    "Created on Mon May  7 23:55:13 2023\n",
    "\n",
    "@author: bjsiv\n",
    "\"\"\"\n",
    "# This file will take both clean datasets and use the Z-Score method to remove data outliers, in order to further \n",
    "# prepare the data for visualization. "
   ]
  },
  {
   "cell_type": "code",
   "execution_count": 3,
   "metadata": {},
   "outputs": [],
   "source": [
    "import numpy as np\n",
    "import pandas as pd\n",
    "from scipy import stats"
   ]
  },
  {
   "cell_type": "code",
   "execution_count": 4,
   "metadata": {},
   "outputs": [],
   "source": [
    "# We will first import the clean CPU and clean GPU datasets from our previous python files, and create copies of \n",
    "# both of them to refrence. \n",
    "\n",
    "df_1 = pd.read_csv(r'C:\\\\Users\\\\bjsiv\\\\OneDrive\\\\Desktop\\\\Data_Sci_Final\\\\Data\\\\CPU_CleanData.csv')\n",
    "df_cpu = df_1.copy(deep=True)\n",
    "\n",
    "df_2 = pd.read_csv(r'C:\\\\Users\\\\bjsiv\\\\OneDrive\\\\Desktop\\\\Data_Sci_Final\\\\Data\\\\GPU_CleanData.csv')\n",
    "df_gpu = df_2.copy(deep=True)"
   ]
  },
  {
   "cell_type": "code",
   "execution_count": 7,
   "metadata": {},
   "outputs": [
    {
     "name": "stdout",
     "output_type": "stream",
     "text": [
      "4800.0\n",
      "44.0\n"
     ]
    }
   ],
   "source": [
    "print(df_cpu['Transistors'].quantile(0.95))\n",
    "\n",
    "print(df_cpu['Transistors'].quantile(0.05))"
   ]
  }
 ],
 "metadata": {
  "kernelspec": {
   "display_name": "Python 3",
   "language": "python",
   "name": "python3"
  },
  "language_info": {
   "codemirror_mode": {
    "name": "ipython",
    "version": 3
   },
   "file_extension": ".py",
   "mimetype": "text/x-python",
   "name": "python",
   "nbconvert_exporter": "python",
   "pygments_lexer": "ipython3",
   "version": "3.11.3"
  },
  "orig_nbformat": 4
 },
 "nbformat": 4,
 "nbformat_minor": 2
}
