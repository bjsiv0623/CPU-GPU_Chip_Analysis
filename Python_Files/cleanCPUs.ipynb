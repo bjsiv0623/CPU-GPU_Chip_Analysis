{
 "cells": [
  {
   "cell_type": "code",
   "execution_count": 1,
   "metadata": {},
   "outputs": [
    {
     "data": {
      "text/plain": [
       "'\\nCreated on Sun May  7 17:34:20 2023\\n\\n@author: bjsiv\\n'"
      ]
     },
     "execution_count": 1,
     "metadata": {},
     "output_type": "execute_result"
    }
   ],
   "source": [
    "# -*- coding: utf-8 -*-\n",
    "\"\"\"\n",
    "Created on Sun May  7 17:34:20 2023\n",
    "\n",
    "@author: bjsiv\n",
    "\"\"\"\n",
    "# This file will use the CPU dataset created in the previous file to clean and prep the data for further use"
   ]
  },
  {
   "cell_type": "code",
   "execution_count": 2,
   "metadata": {},
   "outputs": [],
   "source": [
    "import pandas as pd"
   ]
  },
  {
   "cell_type": "code",
   "execution_count": 3,
   "metadata": {},
   "outputs": [],
   "source": [
    "# Importing the CPU dataset created in splitData.ipynb and creating a copy to refrence\n",
    "df = pd.read_csv(r'C:\\\\Users\\\\bjsiv\\\\Documents\\\\CPU-GPU_Chip_Analysis\\\\Data\\\\CPU_dataset.csv')\n",
    "\n",
    "df_proc = df.copy(deep=True)\n"
   ]
  },
  {
   "cell_type": "code",
   "execution_count": 4,
   "metadata": {},
   "outputs": [],
   "source": [
    "# Now that we have a separate workspace and dataframe for the CPU entries we can go ahead\n",
    "# And drop the three columns that refrence GFLOPS, again this is a metric used to measure performance\n",
    "# on GPUs and therefore is irrelivant to our CPU data"
   ]
  },
  {
   "cell_type": "code",
   "execution_count": 5,
   "metadata": {},
   "outputs": [],
   "source": [
    "df_proc.drop(df_proc.columns[[1,9,10,11]], axis=1, inplace=True)\n",
    "\n",
    "# We can also now drop rows that contain null values, since we have removed the three columns that would interfere with \n",
    "# This operation\n",
    "\n",
    "# When this is complete our CPU dataset will contain: \n",
    "# Index, Type, Process size, TDP, Die size, Transistors, Frequency and Vendor\n",
    "\n",
    "df_proc = df_proc.dropna()"
   ]
  },
  {
   "cell_type": "code",
   "execution_count": 6,
   "metadata": {},
   "outputs": [],
   "source": [
    "# We now have a dataset with only CPU entries that contains only relevant data, with no null values in any of the entries\n",
    "# We can go ahead and save our dataset to csv\n",
    "\n",
    "df_proc.to_csv(r'C:\\\\Users\\\\bjsiv\\\\Documents\\\\CPU-GPU_Chip_Analysis\\\\Data\\\\CPU_CleanData.csv')"
   ]
  }
 ],
 "metadata": {
  "kernelspec": {
   "display_name": "Python 3",
   "language": "python",
   "name": "python3"
  },
  "language_info": {
   "codemirror_mode": {
    "name": "ipython",
    "version": 3
   },
   "file_extension": ".py",
   "mimetype": "text/x-python",
   "name": "python",
   "nbconvert_exporter": "python",
   "pygments_lexer": "ipython3",
   "version": "3.11.3"
  },
  "orig_nbformat": 4
 },
 "nbformat": 4,
 "nbformat_minor": 2
}
