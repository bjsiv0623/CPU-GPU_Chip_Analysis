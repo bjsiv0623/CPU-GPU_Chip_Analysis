{
 "cells": [
  {
   "cell_type": "code",
   "execution_count": null,
   "metadata": {},
   "outputs": [],
   "source": [
    "# -*- coding: utf-8 -*-\n",
    "\"\"\"\n",
    "Created on Tue May  9 12:34:20 2023\n",
    "\n",
    "@author: bjsiv\n",
    "\"\"\"\n",
    "# This file will create bins to cluter the data so we can visualize it in third party software."
   ]
  },
  {
   "cell_type": "code",
   "execution_count": null,
   "metadata": {},
   "outputs": [],
   "source": [
    "import pandas as pd"
   ]
  },
  {
   "cell_type": "code",
   "execution_count": null,
   "metadata": {},
   "outputs": [],
   "source": [
    "df = pd.read_csv(r'C:\\\\Users\\\\bjsiv\\\\Documents\\\\CPU-GPU_Chip_Analysis\\\\Data\\\\CPU_noOutliers.csv')"
   ]
  },
  {
   "cell_type": "code",
   "execution_count": null,
   "metadata": {},
   "outputs": [],
   "source": [
    "df.drop(df.columns[[0]], axis=1, inplace=True)\n",
    "df.describe()"
   ]
  },
  {
   "cell_type": "code",
   "execution_count": null,
   "metadata": {},
   "outputs": [],
   "source": [
    "bin_labels_proc = ['Extremely Compact(0-32nm)','Highly Compact(32-45nm)', 'Compact(45-90nm)', 'Slightly Compact(90-180nm)']\n",
    "df['ProcessSize'] = pd.qcut(df['Process_Size'], q=4, labels = bin_labels_proc)\n",
    "df.head(60)"
   ]
  },
  {
   "cell_type": "code",
   "execution_count": null,
   "metadata": {},
   "outputs": [],
   "source": [
    "bin_labels_transistors = ['Infinitesimal(1-37nm)', 'Approaching Subatomic(37-125nm)', 'Microminiature(125-410nm)', 'Microscopic(410-1178nm)']\n",
    "df['TransistorSize'] = pd.qcut(df['Transistors'], q=4, labels= bin_labels_transistors)\n",
    "df.head(60)\n"
   ]
  },
  {
   "cell_type": "code",
   "execution_count": null,
   "metadata": {},
   "outputs": [],
   "source": [
    "# Dropping the original columns and replacing them with the binned ones"
   ]
  },
  {
   "cell_type": "code",
   "execution_count": null,
   "metadata": {},
   "outputs": [],
   "source": [
    "bin_labels_die = ['Least useable space', 'Some useable space', 'Considerable useable space', 'Most useable space']\n",
    "df['DieSize'] = pd.qcut(df['Die_Size'], q=4, labels=bin_labels_die)\n",
    "df.head(50)"
   ]
  },
  {
   "cell_type": "code",
   "execution_count": null,
   "metadata": {},
   "outputs": [],
   "source": [
    "df.head()"
   ]
  },
  {
   "cell_type": "code",
   "execution_count": null,
   "metadata": {},
   "outputs": [],
   "source": [
    "df.to_csv(r'C:\\\\Users\\\\bjsiv\\\\Documents\\\\CPU-GPU_Chip_Analysis\\\\Data\\\\cpuBinned.csv')"
   ]
  }
 ],
 "metadata": {
  "kernelspec": {
   "display_name": "Python 3",
   "language": "python",
   "name": "python3"
  },
  "language_info": {
   "codemirror_mode": {
    "name": "ipython",
    "version": 3
   },
   "file_extension": ".py",
   "mimetype": "text/x-python",
   "name": "python",
   "nbconvert_exporter": "python",
   "pygments_lexer": "ipython3",
   "version": "3.11.3"
  },
  "orig_nbformat": 4
 },
 "nbformat": 4,
 "nbformat_minor": 2
}
