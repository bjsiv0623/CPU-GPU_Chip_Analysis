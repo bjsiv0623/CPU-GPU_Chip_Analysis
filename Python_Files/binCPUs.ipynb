{
 "cells": [
  {
   "cell_type": "code",
   "execution_count": 10,
   "metadata": {},
   "outputs": [
    {
     "data": {
      "text/plain": [
       "'\\nCreated on Tue May  9 12:34:20 2023\\n\\n@author: bjsiv\\n'"
      ]
     },
     "execution_count": 10,
     "metadata": {},
     "output_type": "execute_result"
    }
   ],
   "source": [
    "# -*- coding: utf-8 -*-\n",
    "\"\"\"\n",
    "Created on Tue May  9 12:34:20 2023\n",
    "\n",
    "@author: bjsiv\n",
    "\"\"\"\n",
    "# This file will use the pd.qcut method to bin the data of select columns "
   ]
  },
  {
   "cell_type": "code",
   "execution_count": 11,
   "metadata": {},
   "outputs": [],
   "source": [
    "import pandas as pd"
   ]
  },
  {
   "cell_type": "code",
   "execution_count": 12,
   "metadata": {},
   "outputs": [],
   "source": [
    "df = pd.read_csv(r'C:\\\\Users\\\\bjsiv\\\\Documents\\\\CPU-GPU_Chip_Analysis\\\\Data\\\\cleanCPUdata.csv')"
   ]
  },
  {
   "cell_type": "code",
   "execution_count": 13,
   "metadata": {},
   "outputs": [
    {
     "data": {
      "text/html": [
       "<div>\n",
       "<style scoped>\n",
       "    .dataframe tbody tr th:only-of-type {\n",
       "        vertical-align: middle;\n",
       "    }\n",
       "\n",
       "    .dataframe tbody tr th {\n",
       "        vertical-align: top;\n",
       "    }\n",
       "\n",
       "    .dataframe thead th {\n",
       "        text-align: right;\n",
       "    }\n",
       "</style>\n",
       "<table border=\"1\" class=\"dataframe\">\n",
       "  <thead>\n",
       "    <tr style=\"text-align: right;\">\n",
       "      <th></th>\n",
       "      <th>Process_Size</th>\n",
       "      <th>TDP</th>\n",
       "      <th>Die_Size</th>\n",
       "      <th>Transistors</th>\n",
       "      <th>Freq</th>\n",
       "    </tr>\n",
       "  </thead>\n",
       "  <tbody>\n",
       "    <tr>\n",
       "      <th>count</th>\n",
       "      <td>1322.000000</td>\n",
       "      <td>1322.000000</td>\n",
       "      <td>1322.000000</td>\n",
       "      <td>1322.000000</td>\n",
       "      <td>1322.000000</td>\n",
       "    </tr>\n",
       "    <tr>\n",
       "      <th>mean</th>\n",
       "      <td>61.324508</td>\n",
       "      <td>72.819213</td>\n",
       "      <td>171.062027</td>\n",
       "      <td>1046.355522</td>\n",
       "      <td>2462.337368</td>\n",
       "    </tr>\n",
       "    <tr>\n",
       "      <th>std</th>\n",
       "      <td>41.423788</td>\n",
       "      <td>40.277574</td>\n",
       "      <td>76.501240</td>\n",
       "      <td>1900.532035</td>\n",
       "      <td>574.868412</td>\n",
       "    </tr>\n",
       "    <tr>\n",
       "      <th>min</th>\n",
       "      <td>7.000000</td>\n",
       "      <td>2.000000</td>\n",
       "      <td>1.000000</td>\n",
       "      <td>37.000000</td>\n",
       "      <td>1400.000000</td>\n",
       "    </tr>\n",
       "    <tr>\n",
       "      <th>25%</th>\n",
       "      <td>32.000000</td>\n",
       "      <td>45.000000</td>\n",
       "      <td>109.500000</td>\n",
       "      <td>125.000000</td>\n",
       "      <td>2000.000000</td>\n",
       "    </tr>\n",
       "    <tr>\n",
       "      <th>50%</th>\n",
       "      <td>45.000000</td>\n",
       "      <td>65.000000</td>\n",
       "      <td>160.000000</td>\n",
       "      <td>410.000000</td>\n",
       "      <td>2400.000000</td>\n",
       "    </tr>\n",
       "    <tr>\n",
       "      <th>75%</th>\n",
       "      <td>90.000000</td>\n",
       "      <td>95.000000</td>\n",
       "      <td>220.000000</td>\n",
       "      <td>1178.000000</td>\n",
       "      <td>2933.000000</td>\n",
       "    </tr>\n",
       "    <tr>\n",
       "      <th>max</th>\n",
       "      <td>180.000000</td>\n",
       "      <td>280.000000</td>\n",
       "      <td>513.000000</td>\n",
       "      <td>19200.000000</td>\n",
       "      <td>3500.000000</td>\n",
       "    </tr>\n",
       "  </tbody>\n",
       "</table>\n",
       "</div>"
      ],
      "text/plain": [
       "       Process_Size          TDP     Die_Size   Transistors         Freq\n",
       "count   1322.000000  1322.000000  1322.000000   1322.000000  1322.000000\n",
       "mean      61.324508    72.819213   171.062027   1046.355522  2462.337368\n",
       "std       41.423788    40.277574    76.501240   1900.532035   574.868412\n",
       "min        7.000000     2.000000     1.000000     37.000000  1400.000000\n",
       "25%       32.000000    45.000000   109.500000    125.000000  2000.000000\n",
       "50%       45.000000    65.000000   160.000000    410.000000  2400.000000\n",
       "75%       90.000000    95.000000   220.000000   1178.000000  2933.000000\n",
       "max      180.000000   280.000000   513.000000  19200.000000  3500.000000"
      ]
     },
     "execution_count": 13,
     "metadata": {},
     "output_type": "execute_result"
    }
   ],
   "source": [
    "# We'll need to drop the un-necessary column created when we imported the dataframe\n",
    "df.drop(df.columns[[0]], axis=1, inplace=True)\n",
    "df.describe()"
   ]
  },
  {
   "cell_type": "code",
   "execution_count": 14,
   "metadata": {},
   "outputs": [],
   "source": [
    "# Now we can create lists for each of our bin labels. Then using the pd.qcut method we can apply these\n",
    "# lists to our new columns."
   ]
  },
  {
   "cell_type": "code",
   "execution_count": 15,
   "metadata": {},
   "outputs": [],
   "source": [
    "bin_labels_proc = ['Extremely Compact(7-32nm)','Highly Compact(32-45nm)', \n",
    "                   'Compact(45-90nm)', 'Slightly Compact(90-180nm)']\n",
    "df['ProcessSize'] = pd.qcut(df['Process_Size'], q=4, labels = bin_labels_proc)"
   ]
  },
  {
   "cell_type": "code",
   "execution_count": 16,
   "metadata": {},
   "outputs": [],
   "source": [
    "bin_labels_transistors = ['Infinitesimal(37-125nm)', 'Approaching Subatomic(125-410nm)', \n",
    "                          'Microminiature(410-1170nm)', 'Microscopic(1170-20000nm)']\n",
    "df['TransistorSize'] = pd.qcut(df['Transistors'], q=4, labels= bin_labels_transistors)"
   ]
  },
  {
   "cell_type": "code",
   "execution_count": 17,
   "metadata": {},
   "outputs": [],
   "source": [
    "bin_labels_die = ['Least Useable Space', 'Some Usable Space', 'Considerable Useable Space', 'Most Useable Space']\n",
    "df['DieSize'] = pd.qcut(df['Die_Size'], q=4, labels=bin_labels_die)"
   ]
  },
  {
   "cell_type": "code",
   "execution_count": 18,
   "metadata": {},
   "outputs": [],
   "source": [
    "df.to_csv(r'C:\\\\Users\\\\bjsiv\\\\Documents\\\\CPU-GPU_Chip_Analysis\\\\Data\\\\binnedCPUdata.csv')"
   ]
  }
 ],
 "metadata": {
  "kernelspec": {
   "display_name": "Python 3",
   "language": "python",
   "name": "python3"
  },
  "language_info": {
   "codemirror_mode": {
    "name": "ipython",
    "version": 3
   },
   "file_extension": ".py",
   "mimetype": "text/x-python",
   "name": "python",
   "nbconvert_exporter": "python",
   "pygments_lexer": "ipython3",
   "version": "3.11.3"
  },
  "orig_nbformat": 4
 },
 "nbformat": 4,
 "nbformat_minor": 2
}
