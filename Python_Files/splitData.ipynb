{
 "cells": [
  {
   "cell_type": "code",
   "execution_count": 1,
   "metadata": {},
   "outputs": [
    {
     "data": {
      "text/plain": [
       "'\\nCreated on Sun May  7 14:40:10 2023\\n\\n@author: bjsiv\\n'"
      ]
     },
     "execution_count": 1,
     "metadata": {},
     "output_type": "execute_result"
    }
   ],
   "source": [
    "# -*- coding: utf-8 -*-\n",
    "\"\"\"\n",
    "Created on Sun May  7 14:40:10 2023\n",
    "\n",
    "@author: bjsiv\n",
    "\"\"\"\n",
    "\n",
    "#This file will split the original dataframe containing CPU and GPU data into two separate datasets"
   ]
  },
  {
   "cell_type": "code",
   "execution_count": 2,
   "metadata": {},
   "outputs": [],
   "source": [
    "import pandas as pd"
   ]
  },
  {
   "cell_type": "code",
   "execution_count": 3,
   "metadata": {},
   "outputs": [],
   "source": [
    "# Importing the dataframe and creating a copy to refrence\n",
    "df = pd.read_csv(r'C:\\\\Users\\\\bjsiv\\\\OneDrive\\\\Desktop\\\\Data_Sci_Final\\\\Data\\\\chip_dataset.csv')\n",
    "\n",
    "df_proc = df.copy(deep=True)"
   ]
  },
  {
   "cell_type": "code",
   "execution_count": 4,
   "metadata": {},
   "outputs": [],
   "source": [
    "# Here we will drop the columns that contain the product name the release date and the chip foundry, \n",
    "# Since we will only be classifying these CPUs and GPUs by their properties and their manufactuerer, \n",
    "# Other information is not relevant and bloats the dataframe\n",
    "df_proc.drop(df_proc.columns[[1,3,9]], axis=1, inplace=True)"
   ]
  },
  {
   "cell_type": "code",
   "execution_count": 5,
   "metadata": {},
   "outputs": [],
   "source": [
    "# Now we will split the dataframe into two dataframes, one for CPUs and one for GPUs\n",
    "# This is because there are three columns that refrence GFLOPS *Giga (billions) of Floating Point Operations Per Second*\n",
    "# Which is a metric commonly used to describe raw performance on Graphics cards (GPUs)\n",
    "# For the couple thousand CPU entries we have, this information is not relevant but we can streamline \n",
    "# The cleaning process by separating the CPU entries from the GPU entries"
   ]
  },
  {
   "cell_type": "code",
   "execution_count": 6,
   "metadata": {},
   "outputs": [],
   "source": [
    "df_CPUs = df_proc[df_proc['Type'] == 'CPU']\n",
    "df_CPUs.to_csv(r'C:\\\\Users\\\\bjsiv\\\\OneDrive\\\\Desktop\\\\Data_Sci_Final\\\\Data\\\\CPU_dataset.csv')\n",
    "\n",
    "df_GPUs = df_proc[df_proc['Type'] == 'GPU']\n",
    "df_GPUs.to_csv(r'C:\\\\Users\\\\bjsiv\\\\OneDrive\\\\Desktop\\\\Data_Sci_Final\\\\Data\\\\GPU_dataset.csv')"
   ]
  }
 ],
 "metadata": {
  "kernelspec": {
   "display_name": "Python 3",
   "language": "python",
   "name": "python3"
  },
  "language_info": {
   "codemirror_mode": {
    "name": "ipython",
    "version": 3
   },
   "file_extension": ".py",
   "mimetype": "text/x-python",
   "name": "python",
   "nbconvert_exporter": "python",
   "pygments_lexer": "ipython3",
   "version": "3.11.3"
  },
  "orig_nbformat": 4
 },
 "nbformat": 4,
 "nbformat_minor": 2
}
