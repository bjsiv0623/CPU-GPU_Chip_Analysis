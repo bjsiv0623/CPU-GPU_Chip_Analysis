{
 "cells": [
  {
   "cell_type": "code",
   "execution_count": 1,
   "metadata": {},
   "outputs": [
    {
     "data": {
      "text/plain": [
       "'\\nCreated on Tue May  9 18:19:12 2023\\n\\n@author: bjsiv\\n'"
      ]
     },
     "execution_count": 1,
     "metadata": {},
     "output_type": "execute_result"
    }
   ],
   "source": [
    "# -*- coding: utf-8 -*-\n",
    "\"\"\"\n",
    "Created on Tue May  9 18:19:12 2023\n",
    "\n",
    "@author: bjsiv\n",
    "\"\"\""
   ]
  },
  {
   "cell_type": "code",
   "execution_count": 2,
   "metadata": {},
   "outputs": [],
   "source": [
    "import pandas as pd"
   ]
  },
  {
   "cell_type": "code",
   "execution_count": 3,
   "metadata": {},
   "outputs": [],
   "source": [
    "df = pd.read_csv(r'C:\\\\Users\\\\bjsiv\\\\Documents\\\\CPU-GPU_Chip_Analysis\\\\Data\\\\cleanGPUdata.csv')"
   ]
  },
  {
   "cell_type": "code",
   "execution_count": 4,
   "metadata": {},
   "outputs": [],
   "source": [
    "# We'll first drop the column created when we imported the dataframe"
   ]
  },
  {
   "cell_type": "code",
   "execution_count": 5,
   "metadata": {},
   "outputs": [
    {
     "data": {
      "text/html": [
       "<div>\n",
       "<style scoped>\n",
       "    .dataframe tbody tr th:only-of-type {\n",
       "        vertical-align: middle;\n",
       "    }\n",
       "\n",
       "    .dataframe tbody tr th {\n",
       "        vertical-align: top;\n",
       "    }\n",
       "\n",
       "    .dataframe thead th {\n",
       "        text-align: right;\n",
       "    }\n",
       "</style>\n",
       "<table border=\"1\" class=\"dataframe\">\n",
       "  <thead>\n",
       "    <tr style=\"text-align: right;\">\n",
       "      <th></th>\n",
       "      <th>Process_Size</th>\n",
       "      <th>TDP</th>\n",
       "      <th>Die_Size</th>\n",
       "      <th>Transistors</th>\n",
       "      <th>Freq</th>\n",
       "      <th>FP16_GFLOPS</th>\n",
       "      <th>FP32_GFLOPS</th>\n",
       "      <th>FP64_GFLOPS</th>\n",
       "    </tr>\n",
       "  </thead>\n",
       "  <tbody>\n",
       "    <tr>\n",
       "      <th>count</th>\n",
       "      <td>347.000000</td>\n",
       "      <td>347.000000</td>\n",
       "      <td>347.000000</td>\n",
       "      <td>347.000000</td>\n",
       "      <td>347.000000</td>\n",
       "      <td>347.000000</td>\n",
       "      <td>347.000000</td>\n",
       "      <td>347.000000</td>\n",
       "    </tr>\n",
       "    <tr>\n",
       "      <th>mean</th>\n",
       "      <td>14.365994</td>\n",
       "      <td>92.524496</td>\n",
       "      <td>250.682997</td>\n",
       "      <td>6383.400576</td>\n",
       "      <td>1031.729107</td>\n",
       "      <td>5110.812046</td>\n",
       "      <td>4308.151585</td>\n",
       "      <td>172.837660</td>\n",
       "    </tr>\n",
       "    <tr>\n",
       "      <th>std</th>\n",
       "      <td>4.887911</td>\n",
       "      <td>69.283462</td>\n",
       "      <td>147.312741</td>\n",
       "      <td>4356.030962</td>\n",
       "      <td>395.076968</td>\n",
       "      <td>7029.665508</td>\n",
       "      <td>4120.718436</td>\n",
       "      <td>117.887291</td>\n",
       "    </tr>\n",
       "    <tr>\n",
       "      <th>min</th>\n",
       "      <td>7.000000</td>\n",
       "      <td>10.000000</td>\n",
       "      <td>74.000000</td>\n",
       "      <td>1200.000000</td>\n",
       "      <td>200.000000</td>\n",
       "      <td>10.020000</td>\n",
       "      <td>153.600000</td>\n",
       "      <td>7.368000</td>\n",
       "    </tr>\n",
       "    <tr>\n",
       "      <th>25%</th>\n",
       "      <td>12.000000</td>\n",
       "      <td>45.000000</td>\n",
       "      <td>132.000000</td>\n",
       "      <td>3300.000000</td>\n",
       "      <td>852.500000</td>\n",
       "      <td>622.100000</td>\n",
       "      <td>1429.500000</td>\n",
       "      <td>77.985000</td>\n",
       "    </tr>\n",
       "    <tr>\n",
       "      <th>50%</th>\n",
       "      <td>14.000000</td>\n",
       "      <td>75.000000</td>\n",
       "      <td>210.000000</td>\n",
       "      <td>5000.000000</td>\n",
       "      <td>1090.000000</td>\n",
       "      <td>2560.000000</td>\n",
       "      <td>2984.000000</td>\n",
       "      <td>136.700000</td>\n",
       "    </tr>\n",
       "    <tr>\n",
       "      <th>75%</th>\n",
       "      <td>14.000000</td>\n",
       "      <td>122.500000</td>\n",
       "      <td>314.000000</td>\n",
       "      <td>7200.000000</td>\n",
       "      <td>1350.000000</td>\n",
       "      <td>6175.000000</td>\n",
       "      <td>5691.000000</td>\n",
       "      <td>254.350000</td>\n",
       "    </tr>\n",
       "    <tr>\n",
       "      <th>max</th>\n",
       "      <td>28.000000</td>\n",
       "      <td>320.000000</td>\n",
       "      <td>754.000000</td>\n",
       "      <td>28300.000000</td>\n",
       "      <td>1744.000000</td>\n",
       "      <td>65130.000000</td>\n",
       "      <td>29770.000000</td>\n",
       "      <td>496.800000</td>\n",
       "    </tr>\n",
       "  </tbody>\n",
       "</table>\n",
       "</div>"
      ],
      "text/plain": [
       "       Process_Size         TDP    Die_Size   Transistors         Freq   \n",
       "count    347.000000  347.000000  347.000000    347.000000   347.000000  \\\n",
       "mean      14.365994   92.524496  250.682997   6383.400576  1031.729107   \n",
       "std        4.887911   69.283462  147.312741   4356.030962   395.076968   \n",
       "min        7.000000   10.000000   74.000000   1200.000000   200.000000   \n",
       "25%       12.000000   45.000000  132.000000   3300.000000   852.500000   \n",
       "50%       14.000000   75.000000  210.000000   5000.000000  1090.000000   \n",
       "75%       14.000000  122.500000  314.000000   7200.000000  1350.000000   \n",
       "max       28.000000  320.000000  754.000000  28300.000000  1744.000000   \n",
       "\n",
       "        FP16_GFLOPS   FP32_GFLOPS  FP64_GFLOPS  \n",
       "count    347.000000    347.000000   347.000000  \n",
       "mean    5110.812046   4308.151585   172.837660  \n",
       "std     7029.665508   4120.718436   117.887291  \n",
       "min       10.020000    153.600000     7.368000  \n",
       "25%      622.100000   1429.500000    77.985000  \n",
       "50%     2560.000000   2984.000000   136.700000  \n",
       "75%     6175.000000   5691.000000   254.350000  \n",
       "max    65130.000000  29770.000000   496.800000  "
      ]
     },
     "execution_count": 5,
     "metadata": {},
     "output_type": "execute_result"
    }
   ],
   "source": [
    "df.drop(df.columns[[0]], axis=1, inplace=True)\n",
    "df.describe()"
   ]
  },
  {
   "cell_type": "code",
   "execution_count": 6,
   "metadata": {},
   "outputs": [],
   "source": [
    "# Now we can create lists for each of our bin labels. Then using the pd.qcut method we can apply these\n",
    "# lists to our new columns like we did in our binCPU file."
   ]
  },
  {
   "cell_type": "code",
   "execution_count": 7,
   "metadata": {},
   "outputs": [],
   "source": [
    "bin_labels_transistors = ['Infinitesimal(1200-3300nm)', 'Approaching Subatomic(3300-5000nm)', \n",
    "                          'Microminiature(5000-7200nm)', 'Microscopic(7200-28300nm)']\n",
    "df['TransistorSize'] = pd.qcut(df['Transistors'], q=4, labels = bin_labels_transistors)"
   ]
  },
  {
   "cell_type": "code",
   "execution_count": 8,
   "metadata": {},
   "outputs": [],
   "source": [
    "bin_labels_die = ['Least Useable Space', 'Some Useable Space', \n",
    "                  'Considerabel Useable Space', 'Most Useable Space']\n",
    "df['DieSize'] = pd.qcut(df['Die_Size'], q=4, labels = bin_labels_die)"
   ]
  },
  {
   "cell_type": "code",
   "execution_count": 9,
   "metadata": {},
   "outputs": [],
   "source": [
    "bin_labels_FP16 = ['10-600', '600-2500', \n",
    "                   '2500-6000', '6000-65000']\n",
    "df['FP16_Billions'] = pd.qcut(df['FP16_GFLOPS'], q=4, labels = bin_labels_FP16)"
   ]
  },
  {
   "cell_type": "code",
   "execution_count": 10,
   "metadata": {},
   "outputs": [],
   "source": [
    "bin_labels_FP32 = ['150-1500', '1500-3000', \n",
    "                   '3000-5700', '5700-30000']\n",
    "df['FP32_Billions'] = pd.qcut(df['FP32_GFLOPS'], q=4, labels = bin_labels_FP32)"
   ]
  },
  {
   "cell_type": "code",
   "execution_count": 11,
   "metadata": {},
   "outputs": [],
   "source": [
    "bin_labels_FP64 = ['1-80', '80-140', \n",
    "                   '140-250', '250-500']\n",
    "df['FP64_Billions'] = pd.qcut(df['FP64_GFLOPS'], q=4, labels = bin_labels_FP64)"
   ]
  },
  {
   "cell_type": "code",
   "execution_count": 12,
   "metadata": {},
   "outputs": [],
   "source": [
    "df.to_csv(r'C:\\\\Users\\\\bjsiv\\\\Documents\\\\CPU-GPU_Chip_Analysis\\\\Data\\\\binnedGPUdata.csv')"
   ]
  }
 ],
 "metadata": {
  "kernelspec": {
   "display_name": "Python 3",
   "language": "python",
   "name": "python3"
  },
  "language_info": {
   "codemirror_mode": {
    "name": "ipython",
    "version": 3
   },
   "file_extension": ".py",
   "mimetype": "text/x-python",
   "name": "python",
   "nbconvert_exporter": "python",
   "pygments_lexer": "ipython3",
   "version": "3.11.3"
  },
  "orig_nbformat": 4
 },
 "nbformat": 4,
 "nbformat_minor": 2
}
